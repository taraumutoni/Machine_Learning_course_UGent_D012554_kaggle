{
  "nbformat": 4,
  "nbformat_minor": 0,
  "metadata": {
    "colab": {
      "name": "Eyeblinking_Kneighbormodel.ipynb",
      "provenance": [],
      "authorship_tag": "ABX9TyP9/0eH0bUA8B8+Ram+zdBF",
      "include_colab_link": true
    },
    "kernelspec": {
      "name": "python3",
      "display_name": "Python 3"
    }
  },
  "cells": [
    {
      "cell_type": "markdown",
      "metadata": {
        "id": "view-in-github",
        "colab_type": "text"
      },
      "source": [
        "<a href=\"https://colab.research.google.com/github/taraumutoni/Machine_Learning_course_UGent_D012554_kaggle/blob/master/Eyeblinking_Kneighbormodel.ipynb\" target=\"_parent\"><img src=\"https://colab.research.google.com/assets/colab-badge.svg\" alt=\"Open In Colab\"/></a>"
      ]
    },
    {
      "cell_type": "code",
      "metadata": {
        "id": "urY22b-hRu2u",
        "colab_type": "code",
        "colab": {}
      },
      "source": [
        "%matplotlib inline\n",
        "import pandas as pd"
      ],
      "execution_count": 0,
      "outputs": []
    },
    {
      "cell_type": "code",
      "metadata": {
        "id": "DCKwpV4QR8Hp",
        "colab_type": "code",
        "colab": {}
      },
      "source": [
        "trainset = pd.read_csv(\"https://raw.githubusercontent.com/sdgroeve/Machine_Learning_course_UGent_D012554_kaggle/master/eeg_train.csv\")\n",
        "\n",
        "testset = pd.read_csv(\"https://raw.githubusercontent.com/sdgroeve/Machine_Learning_course_UGent_D012554_kaggle/master/eeg_test.csv\")"
      ],
      "execution_count": 0,
      "outputs": []
    },
    {
      "cell_type": "code",
      "metadata": {
        "id": "7woL7oORR_SD",
        "colab_type": "code",
        "colab": {}
      },
      "source": [
        "trainset_copy = trainset.copy()\n",
        "testset_copy = testset.copy()\n",
        "label_column = trainset.pop('label')\n",
        "index_column = testset.pop('index')\n"
      ],
      "execution_count": 0,
      "outputs": []
    },
    {
      "cell_type": "code",
      "metadata": {
        "id": "gRzbLMDXSDX3",
        "colab_type": "code",
        "colab": {}
      },
      "source": [
        "from sklearn.preprocessing import StandardScaler\n",
        "import matplotlib.pyplot as plt\n",
        "import numpy as np\n",
        "\n",
        "\n",
        "scaler = StandardScaler()\n",
        "scaler.fit(trainset)\n",
        "trainset_scaled = scaler.transform(trainset)\n",
        "testset_scaled = scaler.transform(testset)"
      ],
      "execution_count": 0,
      "outputs": []
    },
    {
      "cell_type": "code",
      "metadata": {
        "id": "KeO7ZuxbSNXj",
        "colab_type": "code",
        "colab": {}
      },
      "source": [
        "trainset_scaled= pd.DataFrame(data=trainset_scaled)\n",
        "testset_scaled = pd.DataFrame(data=testset_scaled)"
      ],
      "execution_count": 0,
      "outputs": []
    },
    {
      "cell_type": "code",
      "metadata": {
        "id": "Dn83oClfZbx4",
        "colab_type": "code",
        "colab": {}
      },
      "source": [
        "from sklearn.neighbors import KNeighborsClassifier\n",
        "\n",
        "knn = KNeighborsClassifier(n_neighbors=1)# classifier should be looking for the 1 nearest neighbor"
      ],
      "execution_count": 0,
      "outputs": []
    },
    {
      "cell_type": "code",
      "metadata": {
        "id": "cEA9kmDhazPy",
        "colab_type": "code",
        "outputId": "46bca892-4bad-4973-ff16-d987313dd33b",
        "colab": {
          "base_uri": "https://localhost:8080/",
          "height": 69
        }
      },
      "source": [
        "knn.fit(trainset_scaled, label_column)#knn is fitted on features and response of training dataset"
      ],
      "execution_count": 7,
      "outputs": [
        {
          "output_type": "execute_result",
          "data": {
            "text/plain": [
              "KNeighborsClassifier(algorithm='auto', leaf_size=30, metric='minkowski',\n",
              "                     metric_params=None, n_jobs=None, n_neighbors=1, p=2,\n",
              "                     weights='uniform')"
            ]
          },
          "metadata": {
            "tags": []
          },
          "execution_count": 7
        }
      ]
    },
    {
      "cell_type": "code",
      "metadata": {
        "id": "cwpooSbBblDR",
        "colab_type": "code",
        "outputId": "992a17b3-12bd-4aec-dc54-ddc620b3d437",
        "colab": {
          "base_uri": "https://localhost:8080/",
          "height": 35
        }
      },
      "source": [
        "knn.predict(testset_scaled)"
      ],
      "execution_count": 8,
      "outputs": [
        {
          "output_type": "execute_result",
          "data": {
            "text/plain": [
              "array([0, 1, 0, ..., 1, 1, 0])"
            ]
          },
          "metadata": {
            "tags": []
          },
          "execution_count": 8
        }
      ]
    },
    {
      "cell_type": "code",
      "metadata": {
        "id": "-F_iyo3tBiIN",
        "colab_type": "code",
        "colab": {}
      },
      "source": [
        ""
      ],
      "execution_count": 0,
      "outputs": []
    },
    {
      "cell_type": "code",
      "metadata": {
        "id": "mUJf1xh-dYNe",
        "colab_type": "code",
        "colab": {}
      },
      "source": [
        "prediction_test = pd.DataFrame(columns=['index','label'])\n",
        "prediction_test['index'] = index_column\n",
        "prediction_test['label'] = knn.predict(testset_scaled) #KNeighborsClassifier on testdata\n",
        "\n",
        " \n",
        "\n",
        "filename = \"Eyeblinking_Kneighbormodel.csv\"\n",
        "prediction_test.to_csv(filename, index=False)"
      ],
      "execution_count": 0,
      "outputs": []
    }
  ]
}