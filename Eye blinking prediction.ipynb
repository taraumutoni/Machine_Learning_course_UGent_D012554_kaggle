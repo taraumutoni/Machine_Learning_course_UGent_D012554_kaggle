{
  "nbformat": 4,
  "nbformat_minor": 0,
  "metadata": {
    "kernelspec": {
      "display_name": "Python 3",
      "language": "python",
      "name": "python3"
    },
    "language_info": {
      "codemirror_mode": {
        "name": "ipython",
        "version": 3
      },
      "file_extension": ".py",
      "mimetype": "text/x-python",
      "name": "python",
      "nbconvert_exporter": "python",
      "pygments_lexer": "ipython3",
      "version": "3.7.3"
    },
    "colab": {
      "name": "Eye blinking prediction.ipynb",
      "provenance": []
    }
  },
  "cells": [
    {
      "cell_type": "code",
      "metadata": {
        "id": "52xHOyHDXxao",
        "colab_type": "code",
        "colab": {}
      },
      "source": [
        "%matplotlib inline\n",
        "import pandas as pd"
      ],
      "execution_count": 0,
      "outputs": []
    },
    {
      "cell_type": "markdown",
      "metadata": {
        "id": "goRLnuyRXxaw",
        "colab_type": "text"
      },
      "source": [
        "\n",
        "<img src=\"https://raw.githubusercontent.com/sdgroeve/Machine_Learning_course_UGent_D012554_kaggle/master/header.png\" alt=\"drawing\"/>\n"
      ]
    },
    {
      "cell_type": "markdown",
      "metadata": {
        "id": "tsJ4TbSlXxax",
        "colab_type": "text"
      },
      "source": [
        "A multi-channel electroencephalography (EEG) system enables a broad range of applications including neurotherapy, biofeedback, and brain computer interfacing. The dataset you will analyse is created with the [Emotiv EPOC+](https://www.emotiv.com/product/emotiv-epoc-14-channel-mobile-eeg).  \n",
        "\n",
        "It has 14 EEG channels with names based on the International 10-20 locations: AF3, F7, F3, FC5, T7, P7, O1, O2, P8, T8, FC6, F4, F8, AF4:\n",
        "\n",
        "<br/>\n",
        "<br/>\n",
        "<center>\n",
        "<img src=\"https://raw.githubusercontent.com/sdgroeve/Machine_Learning_course_UGent_D012554_kaggle/master/EEG.png\" alt=\"drawing\" width=\"200\"/>\n",
        "<center/>\n",
        "<br/>\n",
        "<br/>\n"
      ]
    },
    {
      "cell_type": "markdown",
      "metadata": {
        "id": "HzXBqhLUfxyh",
        "colab_type": "text"
      },
      "source": [
        "All data is from one continuous EEG measurement with the Emotiv EEG Neuroheadset. \n",
        "\n",
        "The experiment was conducted on one person only. The duration of the measurement was around 117 seconds.\n",
        "\n",
        "From the paper:\n",
        "\n",
        "> *The experiment was carried out in a quiet room. During\n",
        "the experiment, the proband was being videotaped. To prevent\n",
        "artifacts, the proband was not aware of the exact start time\n",
        "of the measurement. Instead, he was told to sit relaxed, look\n",
        "straight to the camera, and change the eye state at free will.\n",
        "Only additional constraint was that, accumulated over the\n",
        "entire session, the duration of both eye states should be about\n",
        "the same and that the individual intervals should vary greatly\n",
        "in length (from eye blinking to longer stretches)...*\n",
        "\n",
        "The eye state was detected via a camera during the EEG measurement and later added manually to the file after analyzing the video frames. \n",
        "\n",
        "A label '1' indicates the eye-closed and '0' the eye-open state.\n",
        "\n",
        "(*Source: Oliver Roesler, Stuttgart, Germany*)"
      ]
    },
    {
      "cell_type": "markdown",
      "metadata": {
        "id": "1rHopvjFXxay",
        "colab_type": "text"
      },
      "source": [
        "Let's load the train and test set:"
      ]
    },
    {
      "cell_type": "code",
      "metadata": {
        "id": "aw7NaXHYXxaz",
        "colab_type": "code",
        "colab": {}
      },
      "source": [
        "trainset = pd.read_csv(\"https://raw.githubusercontent.com/sdgroeve/Machine_Learning_course_UGent_D012554_kaggle/master/eeg_train.csv\")\n",
        "\n",
        "testset = pd.read_csv(\"https://raw.githubusercontent.com/sdgroeve/Machine_Learning_course_UGent_D012554_kaggle/master/eeg_test.csv\")\n",
        "\n",
        "sample_submission = pd.read_csv(\"https://raw.githubusercontent.com/sdgroeve/Machine_Learning_course_UGent_D012554_kaggle/master/sample_submission.csv\")\n"
      ],
      "execution_count": 0,
      "outputs": []
    },
    {
      "cell_type": "markdown",
      "metadata": {
        "id": "Xa4COLVgY48t",
        "colab_type": "text"
      },
      "source": [
        "You will fit a model on the trainset and make predictions on the testset. \n",
        "\n",
        "To submit these predictions to Kaggle you need to write a .csv file with two columns: \n",
        "- `index` that matches the `index` column in the test set.\n",
        "- `label` which is your prediction.\n",
        "\n",
        "Here is an example predictions file for Kaggle:"
      ]
    },
    {
      "cell_type": "code",
      "metadata": {
        "id": "_-pAX9vY-3vf",
        "colab_type": "code",
        "outputId": "cb8e7cc5-b4b2-4241-c563-2048f02b1c41",
        "colab": {
          "base_uri": "https://localhost:8080/",
          "height": 202
        }
      },
      "source": [
        "trainset.head()"
      ],
      "execution_count": 15,
      "outputs": [
        {
          "output_type": "execute_result",
          "data": {
            "text/html": [
              "<div>\n",
              "<style scoped>\n",
              "    .dataframe tbody tr th:only-of-type {\n",
              "        vertical-align: middle;\n",
              "    }\n",
              "\n",
              "    .dataframe tbody tr th {\n",
              "        vertical-align: top;\n",
              "    }\n",
              "\n",
              "    .dataframe thead th {\n",
              "        text-align: right;\n",
              "    }\n",
              "</style>\n",
              "<table border=\"1\" class=\"dataframe\">\n",
              "  <thead>\n",
              "    <tr style=\"text-align: right;\">\n",
              "      <th></th>\n",
              "      <th>AF3</th>\n",
              "      <th>F7</th>\n",
              "      <th>F3</th>\n",
              "      <th>FC5</th>\n",
              "      <th>T7</th>\n",
              "      <th>P7</th>\n",
              "      <th>O1</th>\n",
              "      <th>02</th>\n",
              "      <th>P8</th>\n",
              "      <th>T8</th>\n",
              "      <th>FC6</th>\n",
              "      <th>F4</th>\n",
              "      <th>F8</th>\n",
              "      <th>AF4</th>\n",
              "      <th>label</th>\n",
              "    </tr>\n",
              "  </thead>\n",
              "  <tbody>\n",
              "    <tr>\n",
              "      <th>0</th>\n",
              "      <td>4299.49</td>\n",
              "      <td>3997.44</td>\n",
              "      <td>4277.95</td>\n",
              "      <td>4116.92</td>\n",
              "      <td>4353.85</td>\n",
              "      <td>4623.08</td>\n",
              "      <td>4100.00</td>\n",
              "      <td>4623.59</td>\n",
              "      <td>4202.56</td>\n",
              "      <td>4229.23</td>\n",
              "      <td>4211.79</td>\n",
              "      <td>4278.97</td>\n",
              "      <td>4600.00</td>\n",
              "      <td>4369.23</td>\n",
              "      <td>1</td>\n",
              "    </tr>\n",
              "    <tr>\n",
              "      <th>1</th>\n",
              "      <td>4302.05</td>\n",
              "      <td>3985.64</td>\n",
              "      <td>4261.03</td>\n",
              "      <td>4129.74</td>\n",
              "      <td>4334.36</td>\n",
              "      <td>4615.38</td>\n",
              "      <td>4072.31</td>\n",
              "      <td>4585.64</td>\n",
              "      <td>4192.31</td>\n",
              "      <td>4225.13</td>\n",
              "      <td>4195.90</td>\n",
              "      <td>4283.08</td>\n",
              "      <td>4607.18</td>\n",
              "      <td>4358.46</td>\n",
              "      <td>0</td>\n",
              "    </tr>\n",
              "    <tr>\n",
              "      <th>2</th>\n",
              "      <td>4321.03</td>\n",
              "      <td>4015.90</td>\n",
              "      <td>4265.13</td>\n",
              "      <td>4122.56</td>\n",
              "      <td>4333.33</td>\n",
              "      <td>4613.33</td>\n",
              "      <td>4072.82</td>\n",
              "      <td>4602.05</td>\n",
              "      <td>4192.31</td>\n",
              "      <td>4223.08</td>\n",
              "      <td>4155.38</td>\n",
              "      <td>4286.15</td>\n",
              "      <td>4608.21</td>\n",
              "      <td>4371.79</td>\n",
              "      <td>0</td>\n",
              "    </tr>\n",
              "    <tr>\n",
              "      <th>3</th>\n",
              "      <td>4408.21</td>\n",
              "      <td>4104.10</td>\n",
              "      <td>4380.00</td>\n",
              "      <td>4232.31</td>\n",
              "      <td>4449.74</td>\n",
              "      <td>4750.26</td>\n",
              "      <td>4169.23</td>\n",
              "      <td>4731.28</td>\n",
              "      <td>4311.28</td>\n",
              "      <td>4352.31</td>\n",
              "      <td>4319.49</td>\n",
              "      <td>4388.21</td>\n",
              "      <td>4715.90</td>\n",
              "      <td>4464.10</td>\n",
              "      <td>0</td>\n",
              "    </tr>\n",
              "    <tr>\n",
              "      <th>4</th>\n",
              "      <td>4347.18</td>\n",
              "      <td>3975.38</td>\n",
              "      <td>4266.67</td>\n",
              "      <td>4102.56</td>\n",
              "      <td>4333.33</td>\n",
              "      <td>4617.95</td>\n",
              "      <td>4097.44</td>\n",
              "      <td>4612.82</td>\n",
              "      <td>4210.77</td>\n",
              "      <td>4240.51</td>\n",
              "      <td>4248.21</td>\n",
              "      <td>4313.33</td>\n",
              "      <td>4664.10</td>\n",
              "      <td>4411.79</td>\n",
              "      <td>1</td>\n",
              "    </tr>\n",
              "  </tbody>\n",
              "</table>\n",
              "</div>"
            ],
            "text/plain": [
              "       AF3       F7       F3      FC5  ...       F4       F8      AF4  label\n",
              "0  4299.49  3997.44  4277.95  4116.92  ...  4278.97  4600.00  4369.23      1\n",
              "1  4302.05  3985.64  4261.03  4129.74  ...  4283.08  4607.18  4358.46      0\n",
              "2  4321.03  4015.90  4265.13  4122.56  ...  4286.15  4608.21  4371.79      0\n",
              "3  4408.21  4104.10  4380.00  4232.31  ...  4388.21  4715.90  4464.10      0\n",
              "4  4347.18  3975.38  4266.67  4102.56  ...  4313.33  4664.10  4411.79      1\n",
              "\n",
              "[5 rows x 15 columns]"
            ]
          },
          "metadata": {
            "tags": []
          },
          "execution_count": 15
        }
      ]
    },
    {
      "cell_type": "code",
      "metadata": {
        "id": "Gu2xlN7QAA0L",
        "colab_type": "code",
        "outputId": "0a387565-2576-4bff-e84e-c4d4bc2cef13",
        "colab": {
          "base_uri": "https://localhost:8080/",
          "height": 202
        }
      },
      "source": [
        "testset.head()"
      ],
      "execution_count": 16,
      "outputs": [
        {
          "output_type": "execute_result",
          "data": {
            "text/html": [
              "<div>\n",
              "<style scoped>\n",
              "    .dataframe tbody tr th:only-of-type {\n",
              "        vertical-align: middle;\n",
              "    }\n",
              "\n",
              "    .dataframe tbody tr th {\n",
              "        vertical-align: top;\n",
              "    }\n",
              "\n",
              "    .dataframe thead th {\n",
              "        text-align: right;\n",
              "    }\n",
              "</style>\n",
              "<table border=\"1\" class=\"dataframe\">\n",
              "  <thead>\n",
              "    <tr style=\"text-align: right;\">\n",
              "      <th></th>\n",
              "      <th>AF3</th>\n",
              "      <th>F7</th>\n",
              "      <th>F3</th>\n",
              "      <th>FC5</th>\n",
              "      <th>T7</th>\n",
              "      <th>P7</th>\n",
              "      <th>O1</th>\n",
              "      <th>02</th>\n",
              "      <th>P8</th>\n",
              "      <th>T8</th>\n",
              "      <th>FC6</th>\n",
              "      <th>F4</th>\n",
              "      <th>F8</th>\n",
              "      <th>AF4</th>\n",
              "      <th>index</th>\n",
              "    </tr>\n",
              "  </thead>\n",
              "  <tbody>\n",
              "    <tr>\n",
              "      <th>0</th>\n",
              "      <td>4296.41</td>\n",
              "      <td>4040.51</td>\n",
              "      <td>4253.33</td>\n",
              "      <td>4124.10</td>\n",
              "      <td>4341.54</td>\n",
              "      <td>4618.46</td>\n",
              "      <td>4075.38</td>\n",
              "      <td>4601.03</td>\n",
              "      <td>4183.59</td>\n",
              "      <td>4204.10</td>\n",
              "      <td>4197.44</td>\n",
              "      <td>4268.72</td>\n",
              "      <td>4598.46</td>\n",
              "      <td>4342.56</td>\n",
              "      <td>0</td>\n",
              "    </tr>\n",
              "    <tr>\n",
              "      <th>1</th>\n",
              "      <td>4291.28</td>\n",
              "      <td>3994.36</td>\n",
              "      <td>4247.18</td>\n",
              "      <td>4102.56</td>\n",
              "      <td>4328.21</td>\n",
              "      <td>4616.41</td>\n",
              "      <td>4057.44</td>\n",
              "      <td>4622.56</td>\n",
              "      <td>4198.46</td>\n",
              "      <td>4227.69</td>\n",
              "      <td>4190.77</td>\n",
              "      <td>4260.51</td>\n",
              "      <td>4593.33</td>\n",
              "      <td>4337.95</td>\n",
              "      <td>1</td>\n",
              "    </tr>\n",
              "    <tr>\n",
              "      <th>2</th>\n",
              "      <td>4299.49</td>\n",
              "      <td>4019.49</td>\n",
              "      <td>4269.74</td>\n",
              "      <td>4116.41</td>\n",
              "      <td>4344.10</td>\n",
              "      <td>4635.38</td>\n",
              "      <td>4067.18</td>\n",
              "      <td>4627.18</td>\n",
              "      <td>4211.28</td>\n",
              "      <td>4233.33</td>\n",
              "      <td>4202.56</td>\n",
              "      <td>4280.51</td>\n",
              "      <td>4596.92</td>\n",
              "      <td>4350.26</td>\n",
              "      <td>2</td>\n",
              "    </tr>\n",
              "    <tr>\n",
              "      <th>3</th>\n",
              "      <td>4280.00</td>\n",
              "      <td>4004.62</td>\n",
              "      <td>4263.59</td>\n",
              "      <td>4120.51</td>\n",
              "      <td>4323.59</td>\n",
              "      <td>4603.08</td>\n",
              "      <td>4040.51</td>\n",
              "      <td>4589.23</td>\n",
              "      <td>4174.87</td>\n",
              "      <td>4212.82</td>\n",
              "      <td>4192.82</td>\n",
              "      <td>4271.79</td>\n",
              "      <td>4608.72</td>\n",
              "      <td>4344.10</td>\n",
              "      <td>3</td>\n",
              "    </tr>\n",
              "    <tr>\n",
              "      <th>4</th>\n",
              "      <td>4317.44</td>\n",
              "      <td>3968.72</td>\n",
              "      <td>4260.51</td>\n",
              "      <td>4101.54</td>\n",
              "      <td>4341.54</td>\n",
              "      <td>4600.51</td>\n",
              "      <td>4071.28</td>\n",
              "      <td>4607.69</td>\n",
              "      <td>4191.28</td>\n",
              "      <td>4231.28</td>\n",
              "      <td>4199.49</td>\n",
              "      <td>4282.05</td>\n",
              "      <td>4592.31</td>\n",
              "      <td>4372.82</td>\n",
              "      <td>4</td>\n",
              "    </tr>\n",
              "  </tbody>\n",
              "</table>\n",
              "</div>"
            ],
            "text/plain": [
              "       AF3       F7       F3      FC5  ...       F4       F8      AF4  index\n",
              "0  4296.41  4040.51  4253.33  4124.10  ...  4268.72  4598.46  4342.56      0\n",
              "1  4291.28  3994.36  4247.18  4102.56  ...  4260.51  4593.33  4337.95      1\n",
              "2  4299.49  4019.49  4269.74  4116.41  ...  4280.51  4596.92  4350.26      2\n",
              "3  4280.00  4004.62  4263.59  4120.51  ...  4271.79  4608.72  4344.10      3\n",
              "4  4317.44  3968.72  4260.51  4101.54  ...  4282.05  4592.31  4372.82      4\n",
              "\n",
              "[5 rows x 15 columns]"
            ]
          },
          "metadata": {
            "tags": []
          },
          "execution_count": 16
        }
      ]
    },
    {
      "cell_type": "code",
      "metadata": {
        "id": "G2Xcd8tvkEqA",
        "colab_type": "code",
        "outputId": "58f57531-751b-4301-945e-78260c6190bd",
        "colab": {
          "base_uri": "https://localhost:8080/",
          "height": 355
        }
      },
      "source": [
        "sample_submission.head(10)"
      ],
      "execution_count": 17,
      "outputs": [
        {
          "output_type": "execute_result",
          "data": {
            "text/html": [
              "<div>\n",
              "<style scoped>\n",
              "    .dataframe tbody tr th:only-of-type {\n",
              "        vertical-align: middle;\n",
              "    }\n",
              "\n",
              "    .dataframe tbody tr th {\n",
              "        vertical-align: top;\n",
              "    }\n",
              "\n",
              "    .dataframe thead th {\n",
              "        text-align: right;\n",
              "    }\n",
              "</style>\n",
              "<table border=\"1\" class=\"dataframe\">\n",
              "  <thead>\n",
              "    <tr style=\"text-align: right;\">\n",
              "      <th></th>\n",
              "      <th>index</th>\n",
              "      <th>label</th>\n",
              "    </tr>\n",
              "  </thead>\n",
              "  <tbody>\n",
              "    <tr>\n",
              "      <th>0</th>\n",
              "      <td>0</td>\n",
              "      <td>0.168801</td>\n",
              "    </tr>\n",
              "    <tr>\n",
              "      <th>1</th>\n",
              "      <td>1</td>\n",
              "      <td>0.124169</td>\n",
              "    </tr>\n",
              "    <tr>\n",
              "      <th>2</th>\n",
              "      <td>2</td>\n",
              "      <td>0.947757</td>\n",
              "    </tr>\n",
              "    <tr>\n",
              "      <th>3</th>\n",
              "      <td>3</td>\n",
              "      <td>0.069585</td>\n",
              "    </tr>\n",
              "    <tr>\n",
              "      <th>4</th>\n",
              "      <td>4</td>\n",
              "      <td>0.635325</td>\n",
              "    </tr>\n",
              "    <tr>\n",
              "      <th>5</th>\n",
              "      <td>5</td>\n",
              "      <td>0.659027</td>\n",
              "    </tr>\n",
              "    <tr>\n",
              "      <th>6</th>\n",
              "      <td>6</td>\n",
              "      <td>0.653697</td>\n",
              "    </tr>\n",
              "    <tr>\n",
              "      <th>7</th>\n",
              "      <td>7</td>\n",
              "      <td>0.850030</td>\n",
              "    </tr>\n",
              "    <tr>\n",
              "      <th>8</th>\n",
              "      <td>8</td>\n",
              "      <td>0.160489</td>\n",
              "    </tr>\n",
              "    <tr>\n",
              "      <th>9</th>\n",
              "      <td>9</td>\n",
              "      <td>0.843272</td>\n",
              "    </tr>\n",
              "  </tbody>\n",
              "</table>\n",
              "</div>"
            ],
            "text/plain": [
              "   index     label\n",
              "0      0  0.168801\n",
              "1      1  0.124169\n",
              "2      2  0.947757\n",
              "3      3  0.069585\n",
              "4      4  0.635325\n",
              "5      5  0.659027\n",
              "6      6  0.653697\n",
              "7      7  0.850030\n",
              "8      8  0.160489\n",
              "9      9  0.843272"
            ]
          },
          "metadata": {
            "tags": []
          },
          "execution_count": 17
        }
      ]
    },
    {
      "cell_type": "markdown",
      "metadata": {
        "id": "w7AHk-3elWpy",
        "colab_type": "text"
      },
      "source": [
        "Make sure to save your results without the extra Pandas index column that is written by default:"
      ]
    },
    {
      "cell_type": "code",
      "metadata": {
        "id": "9ny3rYGokLiV",
        "colab_type": "code",
        "colab": {}
      },
      "source": [
        "filename = \"my_prediction_results.csv\"\n",
        "\n",
        "#make sure to not write the Pandas index column (index=False)\n",
        "sample_submission.to_csv(filename,index=False)"
      ],
      "execution_count": 0,
      "outputs": []
    },
    {
      "cell_type": "markdown",
      "metadata": {
        "id": "gD8sr-WobM6K",
        "colab_type": "text"
      },
      "source": [
        "Notice that this predictions file is saved on the cloud server machine. To download this file to your local machine you need to click the \"Files\" icon that you find in the sidebar on the left.\n",
        "\n",
        "Submit this file to the [Kaggle competition website](https://www.kaggle.com/t/09885716fbf14eb08cc1cee2c9ebe7cc) to get an evaluation of your predictions on the public leaderboard.\n",
        "\n",
        "For the report I want you to write a notebook with a scientific description of your analysis. You have to compare the prediction performance of your two best prediction models. This includes data pre-processing, hyperparameter tuning and model evaluation. I also want you to compare the actual predictions made by each model.\n",
        "\n",
        "To create a new notebook go the \"File\" in the menu bar and click \"New notebook\". Do not forget to save your notebook to your GitHub account. You can create as many notebook as you want, but the final report should be in a notebook with the name \"Kaggle_eye_blinking_prediciton.ipynb\"\n",
        "\n",
        "You will be evaluated (equal points) on clarity of the report, scientific insight and complexity of the analysis. "
      ]
    },
    {
      "cell_type": "markdown",
      "metadata": {
        "id": "SUNZKOnDY51C",
        "colab_type": "text"
      },
      "source": [
        "**1.Pre-processing**\n",
        "\n",
        "In this step we try to transform the feature values by removing the mean value and dividing it by their standard deviation. Otherwise features with big variance bigger than other might suppress the others in the background and make sit difficult for the estimator to learn correctly from other features."
      ]
    },
    {
      "cell_type": "code",
      "metadata": {
        "id": "CtFI5qAKr7QI",
        "colab_type": "code",
        "colab": {}
      },
      "source": [
        "trainset_copy = trainset.copy()\n",
        "testset_copy = testset.copy()\n",
        "label_column = trainset.pop('label')\n",
        "index_column = testset.pop('index')"
      ],
      "execution_count": 0,
      "outputs": []
    },
    {
      "cell_type": "code",
      "metadata": {
        "id": "AMJt-T564p7D",
        "colab_type": "code",
        "colab": {}
      },
      "source": [
        "from sklearn.preprocessing import StandardScaler #pre-processing step where we center all the feature values around O\n",
        "import matplotlib.pyplot as plt\n",
        "import numpy as np\n",
        "\n",
        "\n",
        "scaler = StandardScaler()\n",
        "scaler.fit(trainset)\n",
        "trainset_scaled = scaler.transform(trainset)\n",
        "testset_scaled = scaler.transform(testset)"
      ],
      "execution_count": 0,
      "outputs": []
    },
    {
      "cell_type": "code",
      "metadata": {
        "id": "a34Fqgdp4tIY",
        "colab_type": "code",
        "colab": {}
      },
      "source": [
        "trainset_scaled= pd.DataFrame(data=trainset_scaled)\n",
        "testset_scaled = pd.DataFrame(data=testset_scaled)"
      ],
      "execution_count": 0,
      "outputs": []
    },
    {
      "cell_type": "markdown",
      "metadata": {
        "id": "fxmaodl2YIEP",
        "colab_type": "text"
      },
      "source": [
        "I plotted the labels to visualize their count, because in order to work with KNeighborclassifier they have to appear in an average equal amount otherwise the classifier might always favorise one class."
      ]
    },
    {
      "cell_type": "code",
      "metadata": {
        "id": "f91XImPZ7urP",
        "colab_type": "code",
        "outputId": "34cef1d0-9513-4c90-822b-dd5ccf6944de",
        "colab": {
          "base_uri": "https://localhost:8080/",
          "height": 279
        }
      },
      "source": [
        "import seaborn as sns\n",
        "sns.countplot(x='label', data=trainset_copy,palette='hls')\n",
        "plt.show() # Plotting the ratio of the labels, because it might influence the KNeighbormodel fitting if the dataset consist mostly of one label;"
      ],
      "execution_count": 22,
      "outputs": [
        {
          "output_type": "display_data",
          "data": {
            "image/png": "[encoded data removed]",
            "text/plain": [
              "<Figure size 432x288 with 1 Axes>"
            ]
          },
          "metadata": {
            "tags": [],
            "needs_background": "light"
          }
        }
      ]
    },
    {
      "cell_type": "markdown",
      "metadata": {
        "id": "TZE1O3obZB4W",
        "colab_type": "text"
      },
      "source": [
        "The KNN classifier gets fitted on the training data "
      ]
    },
    {
      "cell_type": "markdown",
      "metadata": {
        "id": "zX5hUP9Uah39",
        "colab_type": "text"
      },
      "source": [
        "# 2.KNeighborsClassifier\n",
        "\n",
        "KNeighborsClassifier works with a hyperparameter K, a neighbor value that assigns how many neighbors the new data point will be compared to in order to be classified. By applying GridsearchCV we can obtain what the optimal K is in this instance. This classifier memorizes the labels of the training data and will try link the new data point to closest label. If one data point is mislabelled and K=1 this means that unseen data points will only rely on one point and be labelled as such. "
      ]
    },
    {
      "cell_type": "code",
      "metadata": {
        "id": "cChIyRJIaTD5",
        "colab_type": "code",
        "colab": {
          "base_uri": "https://localhost:8080/",
          "height": 35
        },
        "outputId": "2336a922-9673-4f2b-958d-6f3845b1f0f5"
      },
      "source": [
        "from sklearn.model_selection import GridSearchCV\n",
        "from sklearn.neighbors import KNeighborsClassifier # hypertuning in finding the optimal n_neighbor value\n",
        "\n",
        "#create new a knn model\n",
        "knn2 = KNeighborsClassifier()\n",
        "#create a dictionary of all values we want to test for n_neighbors\n",
        "param_grid = {'n_neighbors': np.arange(1, 25)}\n",
        "#use gridsearch to test all values for n_neighbors\n",
        "knn_gscv = GridSearchCV(knn2, param_grid, cv=10)\n",
        "#fit model to data\n",
        "knn_gscv.fit(trainset_scaled, label_column)\n",
        "knn_gscv.best_params_"
      ],
      "execution_count": 23,
      "outputs": [
        {
          "output_type": "execute_result",
          "data": {
            "text/plain": [
              "{'n_neighbors': 1}"
            ]
          },
          "metadata": {
            "tags": []
          },
          "execution_count": 23
        }
      ]
    },
    {
      "cell_type": "code",
      "metadata": {
        "id": "6hsyMSpd5ILC",
        "colab_type": "code",
        "outputId": "219218c1-c79b-45ba-e4b7-d22122ddc256",
        "colab": {
          "base_uri": "https://localhost:8080/",
          "height": 69
        }
      },
      "source": [
        "#KNeighboring model \n",
        "\n",
        "from sklearn.neighbors import KNeighborsClassifier\n",
        "\n",
        "knn = KNeighborsClassifier(n_neighbors=1)# classifier should be looking for the 1 nearest neighbor\n",
        "knn.fit(trainset_scaled, label_column)#knn is fitted on features and response of training dataset"
      ],
      "execution_count": 24,
      "outputs": [
        {
          "output_type": "execute_result",
          "data": {
            "text/plain": [
              "KNeighborsClassifier(algorithm='auto', leaf_size=30, metric='minkowski',\n",
              "                     metric_params=None, n_jobs=None, n_neighbors=1, p=2,\n",
              "                     weights='uniform')"
            ]
          },
          "metadata": {
            "tags": []
          },
          "execution_count": 24
        }
      ]
    },
    {
      "cell_type": "markdown",
      "metadata": {
        "id": "oJb0GzB3eW2q",
        "colab_type": "text"
      },
      "source": [
        "After fitting the model on trainingset, we can then fit it on the testdata and make predictions about. In this case I implemented the predict function that predicted for each index of the test data the label value."
      ]
    },
    {
      "cell_type": "code",
      "metadata": {
        "id": "ki0-3e336o0d",
        "colab_type": "code",
        "outputId": "8c8847dc-ab78-49c6-b74c-95a8e5b4d179",
        "colab": {
          "base_uri": "https://localhost:8080/",
          "height": 35
        }
      },
      "source": [
        "knn.predict(testset_scaled)#After making a model with training data, next step is to fit the model on unseen data(test)\n"
      ],
      "execution_count": 25,
      "outputs": [
        {
          "output_type": "execute_result",
          "data": {
            "text/plain": [
              "array([0, 1, 0, ..., 1, 1, 0])"
            ]
          },
          "metadata": {
            "tags": []
          },
          "execution_count": 25
        }
      ]
    },
    {
      "cell_type": "markdown",
      "metadata": {
        "id": "PmwBJDLifUer",
        "colab_type": "text"
      },
      "source": [
        "# 3.Support Vector Machine\n",
        "SVM works with a hyperplane in N-dimensions(N= amount of features). We had 14 features that contributed to the labelling of all the observations. SVM will classify training data by a hyperplane that is specified by support vectors because these data points decide where the boundary should be set and are closest to the decision plane.  In svm we want to find a hyperplane that is as far from one class as the other, creating a maximal margin that cleary sets a boundary between the classes.  \n",
        "\n",
        "In case of a data that is linearly non separable we can use the kernel function radial basis function 'rbf'. This kernel can separate data points by transforming the vectors in higher dimension. In the RBF kernel there a two parameters that need to be tuned in order to optimize the generalization performance of our model. The fist parameter is Gamma, that determines how far the data points need to be in order to participate in making a decision boundary. A high gamma will only select support vectors because these points lay closer to the hyperplane, while as a lower gamma would take further laying training data into the model fitting. As for C , the penalty value for misclassification when overfitting the training data. A high C value will penalize our model for each misclassified point in away that the classifier will want to avoid this and starts to overfit the training data and perform less on unseen data.\n",
        "\n",
        "For model tuning I computed via GridsearchCV the values for the hyperparameters gamma and C."
      ]
    },
    {
      "cell_type": "code",
      "metadata": {
        "id": "RsWqZWPa7hda",
        "colab_type": "code",
        "outputId": "72b6c8bc-2732-41f6-d2a3-821aa1b19925",
        "colab": {
          "base_uri": "https://localhost:8080/",
          "height": 35
        }
      },
      "source": [
        "#SVM \n",
        "from sklearn import svm\n",
        "from sklearn.svm import SVC\n",
        "from sklearn.model_selection import GridSearchCV # tried the gridsearch for C and gamma value\n",
        "\n",
        "c_value = [0.001,0.01,0.1,1,10,100]\n",
        "gamma_value = [0.001,0.01,0.1,1,10,100]\n",
        "clf = svm.SVC() #estimator\n",
        "params = dict(C=c_value, gamma=gamma_value )# grid of parameters you want to search the optimal value\n",
        "grid_search = GridSearchCV(clf, param_grid=params, cv=10)\n",
        "grid_search.fit(trainset_scaled, label_column)\n",
        "\n",
        "print(grid_search.best_params_)"
      ],
      "execution_count": 26,
      "outputs": [
        {
          "output_type": "stream",
          "text": [
            "{'C': 10, 'gamma': 1}\n"
          ],
          "name": "stdout"
        }
      ]
    },
    {
      "cell_type": "code",
      "metadata": {
        "id": "ofOWWMc47k_2",
        "colab_type": "code",
        "outputId": "e452dd8b-b957-46ad-e04b-b19493983e8d",
        "colab": {
          "base_uri": "https://localhost:8080/",
          "height": 87
        }
      },
      "source": [
        "clf = svm.SVC(C= 10, kernel='rbf',gamma=1, probability=True) \n",
        " #gamma scales the influence two observations have on each other depending on the distance\n",
        "clf.fit(trainset_scaled, label_column)"
      ],
      "execution_count": 27,
      "outputs": [
        {
          "output_type": "execute_result",
          "data": {
            "text/plain": [
              "SVC(C=10, break_ties=False, cache_size=200, class_weight=None, coef0=0.0,\n",
              "    decision_function_shape='ovr', degree=3, gamma=1, kernel='rbf', max_iter=-1,\n",
              "    probability=True, random_state=None, shrinking=True, tol=0.001,\n",
              "    verbose=False)"
            ]
          },
          "metadata": {
            "tags": []
          },
          "execution_count": 27
        }
      ]
    },
    {
      "cell_type": "code",
      "metadata": {
        "id": "PPX4rE_U7n8y",
        "colab_type": "code",
        "outputId": "2bc27a75-773a-4b5e-809c-0950bd2e2124",
        "colab": {
          "base_uri": "https://localhost:8080/",
          "height": 139
        }
      },
      "source": [
        "clf.predict_proba(testset_scaled)"
      ],
      "execution_count": 28,
      "outputs": [
        {
          "output_type": "execute_result",
          "data": {
            "text/plain": [
              "array([[0.99676376, 0.00323624],\n",
              "       [0.63386273, 0.36613727],\n",
              "       [0.99350001, 0.00649999],\n",
              "       ...,\n",
              "       [0.10807878, 0.89192122],\n",
              "       [0.04935172, 0.95064828],\n",
              "       [0.99546703, 0.00453297]])"
            ]
          },
          "metadata": {
            "tags": []
          },
          "execution_count": 28
        }
      ]
    },
    {
      "cell_type": "markdown",
      "metadata": {
        "id": "6tbVReQ9oIvl",
        "colab_type": "text"
      },
      "source": [
        "Two models were used so we can eventually compare their prediction with true value of training data. In this part ROC curve will be plotted to show the prediction performance of the estimators of KNN and SVM algorithms. The scaled trainset will be splitted in 80% training dataset and 20% as test to evaluate the estimators performance on unseen data. I used a randomstate value of 4 so that the split function would generate each time the same results"
      ]
    },
    {
      "cell_type": "code",
      "metadata": {
        "id": "MupWAcVooDg3",
        "colab_type": "code",
        "colab": {}
      },
      "source": [
        "from sklearn.metrics import roc_curve, auc\n",
        "from sklearn.model_selection import train_test_split\n",
        "from sklearn.metrics import roc_auc_score\n",
        "# shuffle and split training and into subset of train and test data\n",
        "X_train, X_test, y_train, y_test = train_test_split(trainset_scaled, label_column, test_size=.2,\n",
        "                                                    random_state=4)"
      ],
      "execution_count": 0,
      "outputs": []
    },
    {
      "cell_type": "code",
      "metadata": {
        "id": "mkUUjQpKc_mX",
        "colab_type": "code",
        "colab": {}
      },
      "source": [
        "clf = svm.SVC(C= 10, kernel='rbf',gamma=1, probability=True) \n",
        " #gamma scales the influence two observations have on each other depending on the distance\n",
        "clf.fit(X_train, y_train)\n",
        "svm_predict = clf.decision_function(X_test)"
      ],
      "execution_count": 0,
      "outputs": []
    },
    {
      "cell_type": "code",
      "metadata": {
        "id": "5FVVrQXUdSPk",
        "colab_type": "code",
        "colab": {
          "base_uri": "https://localhost:8080/",
          "height": 208
        },
        "outputId": "fdfdcd0e-5563-4b9e-e715-fe0a22c7394f"
      },
      "source": [
        "knn = KNeighborsClassifier(n_neighbors=1)# classifier should be looking for the 1 nearest neighbor\n",
        "knn.fit(X_train, y_train)\n",
        "Knn_predict = knn.predict(X_test)\n",
        "print(Knn_predict)"
      ],
      "execution_count": 44,
      "outputs": [
        {
          "output_type": "stream",
          "text": [
            "[0 0 0 0 0 0 0 1 0 1 0 0 0 1 1 1 1 0 1 0 1 1 1 1 1 0 1 1 0 0 0 1 0 1 1 0 1\n",
            " 0 0 1 1 1 0 1 0 1 1 0 0 0 0 1 0 0 1 1 1 1 1 0 1 0 0 0 1 1 0 0 1 0 0 0 0 1\n",
            " 0 0 0 1 0 1 0 0 1 1 0 1 1 0 1 0 0 1 0 0 1 1 0 1 0 1 0 1 1 0 0 1 1 0 0 0 0\n",
            " 0 1 0 0 1 0 0 1 0 1 1 0 0 0 0 0 1 1 1 0 0 0 0 0 0 1 0 1 1 0 0 1 1 1 1 1 0\n",
            " 1 1 0 0 0 0 1 0 0 0 0 0 0 0 1 0 0 0 1 1 1 0 0 0 0 0 1 0 0 0 1 1 1 1 0 1 0\n",
            " 0 1 1 1 0 0 1 0 1 1 1 1 0 1 0 0 0 0 1 0 0 0 1 1 1 0 1 0 1 0 0 1 1 0 0 0 0\n",
            " 1 0 0 0 1 1 0 1 0 0 0 0 0 1 0 0 0 0 0 1 0 1 0 1 1 1 1 0 1 0 1 0 0 0 0 0 1\n",
            " 0 0 1 0 0 0 0 0 0 0 0 0 0 1 1 0 1 1 0 1 0 0 0 1 0 0 1 0 1 1 0 0 0 1 0 0 1\n",
            " 1 0 1 0 1 0 0 0 0 1 0 0 0 0 0 1 0 0 0 1 1 1 1 1 1 1 0 1 0 0 1 0 0 0 1 1 0\n",
            " 1 1 0 0 1 0 0 1 1 0 0 0 1 0 1 0 0 0 0 0 0 0 0 0 0 1 1 0 0 0 1 1 0 0 0 0 0\n",
            " 1 0 1 1 0 1 0 0 0 0 0 1 1 1 0 0 0 0 0 0 1 1 0 0 0 1 0 0 1 0]\n"
          ],
          "name": "stdout"
        }
      ]
    },
    {
      "cell_type": "code",
      "metadata": {
        "id": "b8wMMMG-d-8-",
        "colab_type": "code",
        "colab": {
          "base_uri": "https://localhost:8080/",
          "height": 497
        },
        "outputId": "529c8f59-3fdf-470a-e56f-7c8e672426b8"
      },
      "source": [
        "#Plotting ROC and compare the AUC of the classifiers\n",
        "#Knn_fpr, Knn_tpr, threshold = roc_curve(y_test,Knn_predict) # ROC curve of KNN\n",
        "#Knn_auc = auc(Knn_fpr, Knn_tpr) \n",
        "\n",
        "svm_fpr, svm_tpr, threshold = roc_curve(y_test,svm_predict) # ROC curve of SVM\n",
        "svm_auc = auc(svm_fpr, svm_tpr)\n",
        "\n",
        "plt.figure(figsize=(8,8))\n",
        "#plt.plot(Knn_fpr, Knn_tpr, linestyle='-', label='KNN (auc=%0.3f)'% Knn_auc)\n",
        "plt.plot(svm_fpr, svm_tpr, linestyle='--', label='SVM (auc=%0.3f)'% svm_auc)\n",
        "\n",
        "plt.xlabel('False positive rate')\n",
        "plt.ylabel('True positive rate')\n",
        "plt.legend()\n",
        "plt.show()"
      ],
      "execution_count": 40,
      "outputs": [
        {
          "output_type": "display_data",
          "data": {
            "image/png": "[encoded data removed]",
            "text/plain": [
              "<Figure size 576x576 with 1 Axes>"
            ]
          },
          "metadata": {
            "tags": [],
            "needs_background": "light"
          }
        }
      ]
    },
    {
      "cell_type": "markdown",
      "metadata": {
        "id": "kn2O50BTlgiV",
        "colab_type": "text"
      },
      "source": [
        "# Conclusions\n",
        "\n",
        "I was not able to plot the ROC of KNN since it doesn' make predictions in probability values,but only classifies unseen data based on the neighbor(class) that occurs the most. With Support vector machine we obtained an AUC of 0,96 indicating that the classifier would able to classify observations in their true category minimizing misclassification."
      ]
    }
  ]
}